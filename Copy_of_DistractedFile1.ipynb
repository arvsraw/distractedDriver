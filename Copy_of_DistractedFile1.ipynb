{
  "cells": [
    {
      "cell_type": "code",
      "execution_count": null,
      "metadata": {
        "id": "NZsAOI0sWXno"
      },
      "outputs": [],
      "source": []
    },
    {
      "cell_type": "code",
      "execution_count": null,
      "metadata": {
        "id": "8DwVL-yIWjBc"
      },
      "outputs": [],
      "source": [
        "! pip install kaggle\n",
        "! mkdir ~/.kaggle\n",
        "! cp kaggle.json ~/.kaggle/\n",
        "! chmod 600 ~/.kaggle/kaggle.json"
      ]
    },
    {
      "cell_type": "code",
      "execution_count": null,
      "metadata": {
        "colab": {
          "base_uri": "https://localhost:8080/"
        },
        "id": "w6Rg_-zoahDT",
        "outputId": "60926433-d164-4a19-8779-ebd3b6a5b69a"
      },
      "outputs": [],
      "source": [
        "! kaggle datasets download rajeevsharma993/distracted-driver-dataset\n",
        "! unzip distracted-driver-dataset.zip"
      ]
    },
    {
      "cell_type": "code",
      "execution_count": null,
      "metadata": {
        "colab": {
          "base_uri": "https://localhost:8080/"
        },
        "id": "QhT5K0FVFhF4",
        "outputId": "55754d19-f721-4201-8c34-4fa48612a1cf"
      },
      "outputs": [],
      "source": [
        "# split test folder into 3 parts\n",
        "!pip install split-folders\n",
        "import splitfolders\n",
        "splitfolders.ratio('/content/imgs/train', output=\"/content/output\", ratio=(0.5, 0.25, 0.25))"
      ]
    },
    {
      "cell_type": "markdown",
      "metadata": {
        "id": "xW3fTamRdnhE"
      },
      "source": [
        "# import libraries and functions"
      ]
    },
    {
      "cell_type": "code",
      "execution_count": null,
      "metadata": {
        "id": "9q46b7unWdo0"
      },
      "outputs": [],
      "source": [
        "import os\n",
        "import tensorflow\n",
        "from tensorflow.keras.preprocessing.image import ImageDataGenerator\n",
        "from tensorflow.keras.preprocessing import image\n",
        "import pickle\n",
        "from tensorflow.keras.callbacks import EarlyStopping\n",
        "from tensorflow.keras.models import Sequential\n",
        "from tensorflow.keras.layers import Dense, Dropout, Flatten, Conv2D, MaxPooling2D,Input, BatchNormalization, AveragePooling2D\n",
        "import random\n",
        "import shutil\n",
        "import matplotlib.pyplot as plt\n",
        "from tensorflow.keras.preprocessing.image import ImageDataGenerator\n",
        "from tensorflow.keras import layers\n",
        "from tensorflow.keras.utils import plot_model\n",
        "from tensorflow.keras import models,optimizers\n",
        "from tensorflow.keras.callbacks import EarlyStopping\n",
        "from tensorflow.keras.applications.imagenet_utils import preprocess_input \n",
        "from keras.callbacks import EarlyStopping\n",
        "import keras\n",
        "import numpy as np\n",
        "import tensorflow as tf\n"
      ]
    },
    {
      "cell_type": "code",
      "execution_count": null,
      "metadata": {
        "id": "UKBXWdTEag9l"
      },
      "outputs": [],
      "source": [
        "path = \"\"\n",
        "train_dir = path + \"train-revamped/train/\"\n",
        "valid_dir = path + \"validation-revamped/val/\"\n",
        "test_dir  = path + 'test-revamped/test/' "
      ]
    },
    {
      "cell_type": "code",
      "execution_count": null,
      "metadata": {
        "colab": {
          "base_uri": "https://localhost:8080/"
        },
        "id": "o0wVPFzsWSVQ",
        "outputId": "0a590684-0df9-4f3e-d832-f35cdade2015"
      },
      "outputs": [],
      "source": [
        "classes = [c for c in os.listdir(train_dir)]\n",
        "classes.sort()\n",
        "print(classes)"
      ]
    },
    {
      "cell_type": "code",
      "execution_count": null,
      "metadata": {
        "id": "LgPWNmMFWsCo"
      },
      "outputs": [],
      "source": [
        "classes.sort()\n",
        "for c in classes:\n",
        "\n",
        "    fig=plt.figure(figsize=(20,20))\n",
        "    cl = train_dir + c\n",
        "    for i,sample in enumerate(random.sample(os.listdir(train_dir + c) , 10)):\n",
        "        fig.add_subplot(10, 10, i+1)\n",
        "        image = plt.imread(cl + '/' + sample)\n",
        "\n",
        "        plt.imshow(image)\n",
        "        plt.xticks([])\n",
        "        plt.yticks([])\n",
        "        plt.title(f\"{c}\")"
      ]
    },
    {
      "cell_type": "code",
      "execution_count": null,
      "metadata": {
        "id": "AVN81vVbag1N"
      },
      "outputs": [],
      "source": [
        "classes_mapping = {   'c0' : \"safe_driving\",\n",
        "                      'c1' : \"texting-right\",\n",
        "                      'c2' : \"talking_on_the_phone-right\",\n",
        "                      'c3' : \"texting-left\",\n",
        "                      'c4' : \"talking_on_the_phone-left\",\n",
        "                      'c5' : \"operating_the_radio\",\n",
        "                      'c6' : \"drinking\",\n",
        "                      'c7' : \"reaching_behind\",\n",
        "                      'c8' : \"hair-and-makeup\",\n",
        "                      'c9' : \"talking_to_passenger\"}\n"
      ]
    },
    {
      "cell_type": "code",
      "execution_count": null,
      "metadata": {
        "id": "Sew459LdHBLH"
      },
      "outputs": [],
      "source": [
        "class_names = ['Safe driving',\n",
        "              'Texting - right',\n",
        "              'Talking on the phone - right',\n",
        "              'Texting - left',\n",
        "              'Talking on the phone - left',\n",
        "              'Operating the radio',\n",
        "              'Drinking',\n",
        "              'Reaching behind',\n",
        "              'Hair and makeup',\n",
        "              'Talking to passenger']"
      ]
    },
    {
      "cell_type": "code",
      "execution_count": null,
      "metadata": {
        "id": "3qlfb4gqXUWf"
      },
      "outputs": [],
      "source": [
        "for c in os.listdir(train_dir):\n",
        "    shutil.move(os.path.join(train_dir,c), os.path.join(train_dir,classes_mapping[f'{c}']))"
      ]
    },
    {
      "cell_type": "code",
      "execution_count": null,
      "metadata": {
        "colab": {
          "base_uri": "https://localhost:8080/"
        },
        "id": "84T3KT2yXXIR",
        "outputId": "b4d6c7da-04ee-4139-febc-f03bb81cf6f3"
      },
      "outputs": [],
      "source": [
        "for c in os.listdir(train_dir):\n",
        "    os.makedirs(valid_dir + '/' + c, exist_ok=True)\n",
        "    os.makedirs(test_dir + '/' + c, exist_ok=True)\n",
        "    \n",
        "    c_train_dir = train_dir + c\n",
        "    c_len = len([sample for sample in os.listdir(c_train_dir)])\n",
        "    print(c_len)\n",
        "    \n",
        "    for sample in random.sample(os.listdir(c_train_dir) , int(float(0.1) * c_len)):\n",
        "        shutil.move(c_train_dir + '/' + sample, valid_dir + c)\n",
        "        \n",
        "    for sample in random.sample(os.listdir(c_train_dir) , int(float(0.1) * c_len)):\n",
        "        shutil.move(c_train_dir + '/' + sample, test_dir + c)"
      ]
    },
    {
      "cell_type": "markdown",
      "metadata": {
        "id": "i3q6fQ7zd6uQ"
      },
      "source": [
        "# import data into directories"
      ]
    },
    {
      "cell_type": "code",
      "execution_count": null,
      "metadata": {
        "colab": {
          "base_uri": "https://localhost:8080/",
          "height": 105
        },
        "id": "_TUigThMYOfq",
        "outputId": "d1998a9e-ff8b-4c02-b896-bc4bfe17f2c1"
      },
      "outputs": [],
      "source": [
        "from tensorflow.keras.preprocessing import image_dataset_from_directory\n",
        "\n",
        "train_data = image_dataset_from_directory('/content/output/train',\n",
        "                                       image_size=(128,128),\n",
        "                                       batch_size=100,\n",
        "                                       seed=123)\n",
        "\n",
        "test_data = image_dataset_from_directory('/content/output/test',\n",
        "                                       image_size=(128,128),\n",
        "                                       batch_size=100,\n",
        "                                       seed=123)\n",
        "\n",
        "val_data = image_dataset_from_directory('/content/output/val',\n",
        "                                       image_size=(128,128),\n",
        "                                       batch_size=100,\n",
        "                                       seed=123)\n",
        "\n",
        "\n",
        "'''testing_data = image_dataset_from_directory('/content/imgs/',\n",
        "                                       image_size=(128,128),\n",
        "                                       batch_size=100,\n",
        "                                       seed=123)'''"
      ]
    },
    {
      "cell_type": "markdown",
      "metadata": {
        "id": "Zj5R_qcSeAQC"
      },
      "source": []
    },
    {
      "cell_type": "code",
      "execution_count": null,
      "metadata": {
        "colab": {
          "base_uri": "https://localhost:8080/"
        },
        "id": "XasHUkFwRFaL",
        "outputId": "e2ba76d9-1f2f-4f4c-9de6-d465808af717"
      },
      "outputs": [],
      "source": [
        "train_data.class_names"
      ]
    },
    {
      "cell_type": "code",
      "execution_count": null,
      "metadata": {
        "id": "WJshMAHZUffp"
      },
      "outputs": [],
      "source": [
        "# assign classes to the dataset\n",
        "train_data.class_names = class_names\n",
        "test_data.class_names = class_names\n",
        "val_data.class_names = class_names\n",
        "#testing_data.class_names = class_names"
      ]
    },
    {
      "cell_type": "code",
      "execution_count": null,
      "metadata": {
        "colab": {
          "base_uri": "https://localhost:8080/"
        },
        "id": "ArGSQZNOUfb1",
        "outputId": "5f9562e1-f014-4c4e-e1a6-ca5cd5a491dd"
      },
      "outputs": [],
      "source": [
        "train_data.class_names"
      ]
    },
    {
      "cell_type": "code",
      "execution_count": null,
      "metadata": {
        "colab": {
          "base_uri": "https://localhost:8080/"
        },
        "id": "DJD2YODFV7Un",
        "outputId": "c70b4e90-2896-41f2-c1c5-acec1c85e15a"
      },
      "outputs": [],
      "source": [
        "test_data.class_names"
      ]
    },
    {
      "cell_type": "code",
      "execution_count": null,
      "metadata": {
        "colab": {
          "base_uri": "https://localhost:8080/"
        },
        "id": "w_uahFGTa7Xm",
        "outputId": "49226d62-8e03-422a-87fc-4ea936db5b10"
      },
      "outputs": [],
      "source": [
        "val_data.class_names"
      ]
    },
    {
      "cell_type": "markdown",
      "metadata": {
        "id": "2M-rek-PeH2f"
      },
      "source": [
        "# First CNN model"
      ]
    },
    {
      "cell_type": "code",
      "execution_count": null,
      "metadata": {
        "colab": {
          "base_uri": "https://localhost:8080/"
        },
        "id": "RKAFhKLPbcDx",
        "outputId": "7e67ff56-3e69-4a26-d384-92d1168eff20"
      },
      "outputs": [],
      "source": [
        "model=Sequential()\n",
        "\n",
        "model.add(Conv2D(16,(3,3), activation='relu', input_shape=(128,128,3)))\n",
        "model.add(MaxPooling2D(pool_size=(2,2)))\n",
        "model.add(Conv2D(16,(3,3), activation='relu'))\n",
        "model.add(MaxPooling2D(pool_size=(2,2)))\n",
        "model.add(Conv2D(32,(3,3), activation='relu'))\n",
        "model.add(Flatten())\n",
        "model.add(Dense(32,activation='relu'))\n",
        "model.add(Dropout(0.3))\n",
        "model.add(Dense(16,activation='relu'))\n",
        "model.add(Dense(10,activation='softmax'))\n",
        "\n",
        "\n",
        "model.summary()"
      ]
    },
    {
      "cell_type": "code",
      "execution_count": null,
      "metadata": {
        "id": "m1uTB6bhbkcX"
      },
      "outputs": [],
      "source": [
        "# compile the model\n",
        "model.compile(optimizer = 'adam', loss='sparse_categorical_crossentropy', metrics=[\"accuracy\"])"
      ]
    },
    {
      "cell_type": "code",
      "execution_count": null,
      "metadata": {
        "colab": {
          "base_uri": "https://localhost:8080/",
          "height": 1000
        },
        "id": "qAwGf8F_Xz1o",
        "outputId": "58a7679c-7644-415b-e683-3cb1507c6d21"
      },
      "outputs": [],
      "source": [
        "\n",
        "plot_model(model)"
      ]
    },
    {
      "cell_type": "code",
      "execution_count": null,
      "metadata": {
        "colab": {
          "base_uri": "https://localhost:8080/"
        },
        "id": "7iJ-JMgzhUTW",
        "outputId": "e87113aa-1ca4-4d30-8759-0679780881c3"
      },
      "outputs": [],
      "source": [
        "es = EarlyStopping(monitor='val_loss', mode='min', verbose=1,patience=3)\n",
        "# train the model\n",
        "history = model.fit(x = train_data,\n",
        "          epochs=10,\n",
        "          validation_data = val_data\n",
        "          #,callbacks=[es]\n",
        "          )"
      ]
    },
    {
      "cell_type": "code",
      "execution_count": null,
      "metadata": {
        "colab": {
          "base_uri": "https://localhost:8080/",
          "height": 472
        },
        "id": "9xFNxb64Zwl3",
        "outputId": "254a1412-3999-4c95-baed-efd13cbfcd1c"
      },
      "outputs": [],
      "source": [
        "plt.plot(history.history['accuracy'],label='accuracy')\n",
        "plt.plot(history.history['val_accuracy'],label='validation accuracy')\n",
        "plt.title('Model Accuracy')\n",
        "plt.ylabel('Accuracy')\n",
        "plt.xlabel('Epochs')\n",
        "plt.legend()\n",
        "plt.show()"
      ]
    },
    {
      "cell_type": "code",
      "execution_count": null,
      "metadata": {
        "colab": {
          "base_uri": "https://localhost:8080/",
          "height": 472
        },
        "id": "sAknu7SUahh6",
        "outputId": "aa040ab0-b1d4-458a-d501-fea9cd323251"
      },
      "outputs": [],
      "source": [
        "plt.plot(history.history['loss'],label='loss')\n",
        "plt.plot(history.history['val_loss'],label='validtion loss')\n",
        "plt.title('Model Loss')\n",
        "plt.ylabel('Loss')\n",
        "plt.xlabel('Epochs')\n",
        "plt.legend()\n",
        "plt.show()"
      ]
    },
    {
      "cell_type": "code",
      "execution_count": null,
      "metadata": {
        "id": "uA4UoH6FB0KY"
      },
      "outputs": [],
      "source": [
        "# saving the model 1\n",
        "# pickle.dump(model, open('custom_model.pkl','wb'))"
      ]
    },
    {
      "cell_type": "code",
      "execution_count": null,
      "metadata": {
        "id": "o-mf5SILB0Kg"
      },
      "outputs": [],
      "source": [
        "# loading saved model 1\n",
        "# pickled_model = pickle.load(open('/content/custom_model.pkl','rb'))"
      ]
    },
    {
      "cell_type": "code",
      "execution_count": null,
      "metadata": {
        "colab": {
          "base_uri": "https://localhost:8080/"
        },
        "id": "nMEwnlCMB0Kg",
        "outputId": "40474944-4637-4469-eb4a-e86e06894549"
      },
      "outputs": [],
      "source": [
        "# testing model 1 against the test_data\n",
        "model.evaluate(test_data)"
      ]
    },
    {
      "cell_type": "markdown",
      "metadata": {
        "id": "mz33w3M0chvg"
      },
      "source": [
        "# model 2\n"
      ]
    },
    {
      "cell_type": "code",
      "execution_count": null,
      "metadata": {
        "colab": {
          "base_uri": "https://localhost:8080/"
        },
        "id": "GDOX0RFxcfEW",
        "outputId": "aae85707-13e3-4fdc-8865-a723916dec5c"
      },
      "outputs": [],
      "source": [
        "# building the layers for second model\n",
        "cnn_model = Sequential()\n",
        "cnn_model.add(Conv2D(32,(3,3),activation = 'relu',input_shape = (128,128,3)))\n",
        "cnn_model.add(Conv2D(64,(3,3),activation = 'relu',padding = 'same'))\n",
        "cnn_model.add(MaxPooling2D(2,2))\n",
        "cnn_model.add(Conv2D(128,(3,3),activation = 'relu',padding = 'same'))\n",
        "cnn_model.add(BatchNormalization())\n",
        "cnn_model.add(MaxPooling2D((2,2)))\n",
        "cnn_model.add(Conv2D(128,(3,3),activation = 'relu',padding='same'))\n",
        "cnn_model.add(Conv2D(126,(3,3),activation = 'relu',padding='same'))\n",
        "cnn_model.add(BatchNormalization())\n",
        "cnn_model.add(MaxPooling2D((2,2)))\n",
        "cnn_model.add(Conv2D(256,(3,3),activation='relu'))\n",
        "cnn_model.add(BatchNormalization())\n",
        "cnn_model.add(MaxPooling2D((2,2)))\n",
        "cnn_model.add(Conv2D(256,(3,3),activation='relu'))\n",
        "cnn_model.add(BatchNormalization())\n",
        "cnn_model.add(Flatten())\n",
        "cnn_model.add(Dense(512,activation = 'relu'))\n",
        "cnn_model.add(BatchNormalization())\n",
        "cnn_model.add(Dense(256,activation = 'relu'))\n",
        "cnn_model.add(BatchNormalization())\n",
        "cnn_model.add(Dense(256,activation = 'relu'))\n",
        "cnn_model.add(BatchNormalization())\n",
        "cnn_model.add(Dense(128,activation = 'relu'))\n",
        "cnn_model.add(BatchNormalization())\n",
        "cnn_model.add(Dense(10,activation = 'softmax',name = 'output'))\n",
        "cnn_model.summary()"
      ]
    },
    {
      "cell_type": "code",
      "execution_count": null,
      "metadata": {
        "id": "tkpBApIycsVN"
      },
      "outputs": [],
      "source": [
        " # compile the model 2\n",
        " cnn_model.compile(optimizer = 'adam', loss='sparse_categorical_crossentropy', metrics=[\"accuracy\"])"
      ]
    },
    {
      "cell_type": "code",
      "execution_count": null,
      "metadata": {
        "colab": {
          "base_uri": "https://localhost:8080/"
        },
        "id": "wQYZB52VbU7a",
        "outputId": "432d1bbe-a54d-410d-f83c-88eba1f4bb47"
      },
      "outputs": [],
      "source": [
        "es = EarlyStopping(monitor='val_loss', mode='min', verbose=1,patience=3)\n",
        "# training the model 2\n",
        "history = cnn_model.fit(x = train_data,\n",
        "          epochs=10,\n",
        "          validation_data = val_data,\n",
        "          callbacks=[es])"
      ]
    },
    {
      "cell_type": "code",
      "execution_count": null,
      "metadata": {
        "colab": {
          "base_uri": "https://localhost:8080/",
          "height": 472
        },
        "id": "PDJHit6Hho1U",
        "outputId": "3ac767a0-536a-47fa-c07f-e6b6d18d28eb"
      },
      "outputs": [],
      "source": [
        "plt.plot(history.history['accuracy'],label='accuracy')\n",
        "plt.plot(history.history['val_accuracy'],label='calidation accuracy')\n",
        "plt.title('Model Accuracy')\n",
        "plt.ylabel('Accuracy')\n",
        "plt.xlabel('Epochs')\n",
        "plt.legend()\n",
        "plt.show()"
      ]
    },
    {
      "cell_type": "code",
      "execution_count": null,
      "metadata": {
        "colab": {
          "base_uri": "https://localhost:8080/",
          "height": 472
        },
        "id": "7u0k7L7TbwxK",
        "outputId": "f570b0f2-99f9-4191-eeb7-8b677b6b7bcb"
      },
      "outputs": [],
      "source": [
        "plt.plot(history.history['loss'],label='loss')\n",
        "plt.plot(history.history['val_loss'],label='validation loss')\n",
        "plt.title('Model Loss')\n",
        "plt.ylabel('Loss')\n",
        "plt.xlabel('Epochs')\n",
        "plt.legend()\n",
        "plt.show()"
      ]
    },
    {
      "cell_type": "code",
      "execution_count": null,
      "metadata": {
        "colab": {
          "base_uri": "https://localhost:8080/"
        },
        "id": "gGcu3lrMM4za",
        "outputId": "4d7b4cba-fa2c-4830-a397-54c6355a508f"
      },
      "outputs": [],
      "source": [
        "cnn_model.evaluate(test_data)"
      ]
    },
    {
      "cell_type": "code",
      "execution_count": null,
      "metadata": {
        "id": "XKmQ6rhAM9__"
      },
      "outputs": [],
      "source": []
    },
    {
      "cell_type": "code",
      "execution_count": null,
      "metadata": {
        "id": "877qWn2VM956"
      },
      "outputs": [],
      "source": []
    },
    {
      "cell_type": "code",
      "execution_count": null,
      "metadata": {
        "colab": {
          "base_uri": "https://localhost:8080/"
        },
        "id": "85SGWXYAfgPV",
        "outputId": "e57b9371-c384-494b-c7b9-9fd28ba7bddd"
      },
      "outputs": [],
      "source": [
        "# evaluating model 2 against test data\n",
        "cnn_model.evaluate(test_data)\n"
      ]
    },
    {
      "cell_type": "code",
      "execution_count": null,
      "metadata": {
        "id": "FwSr3YzXh9sV"
      },
      "outputs": [],
      "source": []
    },
    {
      "cell_type": "markdown",
      "metadata": {
        "id": "6VHpSq-3fan2"
      },
      "source": [
        "# Third Model"
      ]
    },
    {
      "cell_type": "code",
      "execution_count": null,
      "metadata": {
        "colab": {
          "base_uri": "https://localhost:8080/"
        },
        "id": "23O5SCuUbdEC",
        "outputId": "2005beb1-2b61-42ca-8cc0-1abbb813b370"
      },
      "outputs": [],
      "source": [
        "# add layers to 3rd model\n",
        "cnn_model2 = Sequential()\n",
        "cnn_model2.add(Conv2D(16,(3,3),activation = 'relu',input_shape = (128,128,3)))\n",
        "cnn_model2.add(Conv2D(32,(3,3),activation = 'relu',padding = 'same'))\n",
        "cnn_model2.add(AveragePooling2D())\n",
        "cnn_model2.add(Conv2D(64,(3,3),activation = 'relu',padding='same'))\n",
        "cnn_model2.add(Conv2D(64,(3,3),activation = 'relu',padding='same'))\n",
        "cnn_model2.add(AveragePooling2D())\n",
        "cnn_model2.add(Conv2D(128,(3,3),activation='relu'))\n",
        "cnn_model2.add(AveragePooling2D())\n",
        "cnn_model2.add(Conv2D(256,(3,3),activation='relu'))\n",
        "cnn_model2.add(Flatten())\n",
        "cnn_model2.add(Dense(256,activation = 'relu'))\n",
        "cnn_model2.add(Dropout(0.1))\n",
        "cnn_model2.add(Dense(128,activation = 'relu'))\n",
        "cnn_model2.add(Dropout(0.2))\n",
        "cnn_model2.add(Dense(64,activation = 'relu'))\n",
        "cnn_model2.add(Dropout(0.1))\n",
        "cnn_model2.add(Dense(32,activation = 'relu' ))\n",
        "cnn_model2.add(Dropout(0.2))\n",
        "\n",
        "cnn_model2.add(Dense(10,activation = 'softmax'))\n",
        "cnn_model2.summary()"
      ]
    },
    {
      "cell_type": "code",
      "execution_count": null,
      "metadata": {
        "colab": {
          "base_uri": "https://localhost:8080/",
          "height": 1000
        },
        "id": "QkgxFD0TfeCo",
        "outputId": "180cf34f-9fbe-4c42-bca1-946306e7bd28"
      },
      "outputs": [],
      "source": [
        "plot_model(cnn_model2)"
      ]
    },
    {
      "cell_type": "code",
      "execution_count": null,
      "metadata": {
        "id": "49tKensDfdDA"
      },
      "outputs": [],
      "source": [
        "# compile model 3\n",
        "cnn_model2.compile(optimizer = 'adam', loss='sparse_categorical_crossentropy', metrics=[\"accuracy\"])"
      ]
    },
    {
      "cell_type": "code",
      "execution_count": null,
      "metadata": {
        "colab": {
          "base_uri": "https://localhost:8080/"
        },
        "id": "VUcuXPk5fc_V",
        "outputId": "470416f0-665e-4446-83de-bf49f46f823b"
      },
      "outputs": [],
      "source": [
        "es = EarlyStopping(monitor='val_loss', mode='min', verbose=1,patience=3)\n",
        "\n",
        "history3 = cnn_model2.fit(x = train_data,\n",
        "          epochs=10,\n",
        "          validation_data = val_data,\n",
        "          callbacks=[es])"
      ]
    },
    {
      "cell_type": "code",
      "execution_count": null,
      "metadata": {
        "colab": {
          "base_uri": "https://localhost:8080/",
          "height": 472
        },
        "id": "Co6aWeKQe6MM",
        "outputId": "023451ec-a6b7-46a7-ee1f-7552a773c422"
      },
      "outputs": [],
      "source": [
        "plt.plot(history3.history['accuracy'],label='accuracy')\n",
        "plt.plot(history3.history['val_accuracy'],label='valdation accuracy')\n",
        "plt.title('Model Accuracy')\n",
        "plt.ylabel('Accuracy')\n",
        "plt.xlabel('Epochs')\n",
        "plt.legend()\n",
        "plt.show()"
      ]
    },
    {
      "cell_type": "code",
      "execution_count": null,
      "metadata": {
        "colab": {
          "base_uri": "https://localhost:8080/",
          "height": 472
        },
        "id": "01l9thZNfgMU",
        "outputId": "2823f17c-45bc-424c-c97b-ab46003d1246"
      },
      "outputs": [],
      "source": [
        "plt.plot(history3.history['loss'],label='loss')\n",
        "plt.plot(history3.history['val_loss'],label='validation loss')\n",
        "plt.title('Model Loss')\n",
        "plt.ylabel('Loss')\n",
        "plt.xlabel('Epochs')\n",
        "plt.legend()\n",
        "plt.show()"
      ]
    },
    {
      "cell_type": "code",
      "execution_count": null,
      "metadata": {
        "id": "Ec4hHe8ogAvT"
      },
      "outputs": [],
      "source": []
    },
    {
      "cell_type": "code",
      "execution_count": null,
      "metadata": {
        "colab": {
          "base_uri": "https://localhost:8080/"
        },
        "id": "V2d_iK7A3n1q",
        "outputId": "92c7825d-c36f-406b-f423-464c0c18eec7"
      },
      "outputs": [],
      "source": [
        "cnn_model2.evaluate(test_data)"
      ]
    },
    {
      "cell_type": "markdown",
      "metadata": {
        "id": "FVZkSmT7hgQs"
      },
      "source": [
        "# SAVING THE CNN MODEL IN JSON FORMAT"
      ]
    },
    {
      "cell_type": "code",
      "execution_count": null,
      "metadata": {
        "id": "XGk8tzvffc1Q"
      },
      "outputs": [],
      "source": [
        "# save model 3\n",
        "cnn_model2.save('/content/model3.h5')"
      ]
    },
    {
      "cell_type": "code",
      "execution_count": null,
      "metadata": {
        "id": "6-knORk3fcyj"
      },
      "outputs": [],
      "source": [
        "saved_model = tf.keras.models.load_model(\"model3.h5\")"
      ]
    },
    {
      "cell_type": "code",
      "execution_count": null,
      "metadata": {
        "colab": {
          "base_uri": "https://localhost:8080/"
        },
        "id": "dZWuKp5nabWI",
        "outputId": "e30021e8-7194-4808-e099-db72cf64f53e"
      },
      "outputs": [],
      "source": [
        "saved_model.evaluate(test_data)"
      ]
    },
    {
      "cell_type": "code",
      "execution_count": null,
      "metadata": {
        "id": "2il-FbqSabKs"
      },
      "outputs": [],
      "source": []
    },
    {
      "cell_type": "markdown",
      "metadata": {
        "id": "3k4leGk8gG1V"
      },
      "source": [
        "# testing the model on images"
      ]
    },
    {
      "cell_type": "code",
      "execution_count": null,
      "metadata": {
        "colab": {
          "base_uri": "https://localhost:8080/"
        },
        "id": "mSekr3oCfcv3",
        "outputId": "20f1e10e-501a-41cf-eb3a-ba1059cfa1a4"
      },
      "outputs": [],
      "source": [
        "from tensorflow.keras.preprocessing.image import load_img, img_to_array\n",
        "from tensorflow.keras.applications.vgg16 import preprocess_input\n",
        "\n",
        "#load the image\n",
        "my_image = load_img('/content/imgs/train/c0/img_100026.jpg', target_size=(128, 128))\n",
        "\n",
        "#preprocess the image\n",
        "my_image = img_to_array(my_image)\n",
        "\n",
        "#make the prediction\n",
        "prediction = saved_model.predict(np.array([my_image]))\n",
        "res=np.argmax(prediction)\n",
        "result=class_names[res]\n",
        "print(result)"
      ]
    },
    {
      "cell_type": "code",
      "execution_count": null,
      "metadata": {
        "id": "lH0ueHbppg59"
      },
      "outputs": [],
      "source": [
        "prediction"
      ]
    },
    {
      "cell_type": "code",
      "execution_count": null,
      "metadata": {
        "id": "irprsWKspkPS"
      },
      "outputs": [],
      "source": [
        "folder_path = '/content/imgs/test1'\n",
        "\n",
        "model = cnn_model2\n",
        "model.compile(loss='sparse_categorical_crossentropy',\n",
        "              optimizer='adam',\n",
        "              metrics=['accuracy'])\n",
        "\n",
        "# load all images into a list\n",
        "images = []\n",
        "for img in os.listdir(folder_path):\n",
        "    img = os.path.join(folder_path, img)\n",
        "    img = image.load_img(img, target_size=(128, 128))\n",
        "    img = image.img_to_array(img)\n",
        "    img = np.expand_dims(img, axis=0)\n",
        "    images.append(img)\n",
        "\n",
        "# stack up images list to pass for prediction\n",
        "images = np.vstack(images)\n",
        "classes = model.class_names(images, batch_size=100)\n",
        "print(classes)"
      ]
    },
    {
      "cell_type": "code",
      "execution_count": null,
      "metadata": {
        "id": "aY5dNgrWqFjM"
      },
      "outputs": [],
      "source": [
        "print(result)"
      ]
    },
    {
      "cell_type": "code",
      "execution_count": null,
      "metadata": {
        "id": "hR1FoAVtqP-f"
      },
      "outputs": [],
      "source": []
    },
    {
      "cell_type": "code",
      "execution_count": null,
      "metadata": {
        "id": "magBomHAMo6P"
      },
      "outputs": [],
      "source": []
    },
    {
      "cell_type": "code",
      "execution_count": null,
      "metadata": {
        "id": "QE4Agty7Mo0O"
      },
      "outputs": [],
      "source": []
    },
    {
      "cell_type": "code",
      "execution_count": null,
      "metadata": {
        "colab": {
          "base_uri": "https://localhost:8080/"
        },
        "id": "JbKvPnmjMota",
        "outputId": "02ca58d8-a173-42c9-9d80-c7d63fd397a5"
      },
      "outputs": [],
      "source": [
        "saved_cnn = keras.models.load_model(\"/content/drive/MyDrive/Colab Notebooks/saved_models/model3.h5\")\n",
        "saved_cnn.evaluate(test_data)"
      ]
    },
    {
      "cell_type": "code",
      "execution_count": null,
      "metadata": {
        "colab": {
          "base_uri": "https://localhost:8080/"
        },
        "id": "3XqzWzglMzIF",
        "outputId": "e13a3bc9-dc72-4a2e-e430-ee2220920505"
      },
      "outputs": [],
      "source": [
        "saved_cnn.predict(test_data).argmax()\n"
      ]
    },
    {
      "cell_type": "code",
      "execution_count": null,
      "metadata": {
        "id": "luVq1FNCM_SZ"
      },
      "outputs": [],
      "source": [
        "y_true = []\n",
        "y_pred = []\n",
        "for x,y in test_data:\n",
        "  y= tf.argmax(y,axis=1)\n",
        "  y_true.append(y)\n",
        "  y_pred.append(tf.argmax(saved_cnn.predict(x),axis = 1))\n",
        "  \n",
        "y_pred = tf.concat(y_pred, axis=0)\n",
        "y_true = tf.concat(y_true, axis=0)"
      ]
    },
    {
      "cell_type": "code",
      "execution_count": null,
      "metadata": {
        "id": "ccJuDL9fNq-z"
      },
      "outputs": [],
      "source": []
    },
    {
      "cell_type": "code",
      "execution_count": null,
      "metadata": {
        "colab": {
          "base_uri": "https://localhost:8080/"
        },
        "id": "DVhpKP7oOs8I",
        "outputId": "4f6b7a25-3f43-41ef-9828-92f5726a1c56"
      },
      "outputs": [],
      "source": [
        "test_data.class_names"
      ]
    },
    {
      "cell_type": "code",
      "execution_count": null,
      "metadata": {
        "colab": {
          "base_uri": "https://localhost:8080/",
          "height": 898
        },
        "id": "ZBM5uCPwQK2I",
        "outputId": "0538451c-d3d9-4397-e757-4ace268bb2b1"
      },
      "outputs": [],
      "source": [
        "\n",
        "import matplotlib.pyplot as plt\n",
        "\n",
        "plt.figure(figsize=(10, 10))\n",
        "for images, labels in test_data.take(1):\n",
        "  print(labels)\n",
        "  for i in range(9):\n",
        "    ax = plt.subplot(3, 3, i + 1)\n",
        "    plt.imshow(images[i].numpy().astype(\"uint8\"))\n",
        "    plt.title(class_names[labels[i]])\n",
        "    plt.axis(\"off\")"
      ]
    },
    {
      "cell_type": "code",
      "execution_count": null,
      "metadata": {
        "colab": {
          "base_uri": "https://localhost:8080/"
        },
        "id": "g2agRLeAf1mB",
        "outputId": "72e5f839-dee9-4675-c1a0-223a4cd2c0ac"
      },
      "outputs": [],
      "source": [
        "test_data.take(1)"
      ]
    },
    {
      "cell_type": "code",
      "execution_count": null,
      "metadata": {
        "id": "Jqgw-BCDmtf7"
      },
      "outputs": [],
      "source": []
    }
  ],
  "metadata": {
    "accelerator": "TPU",
    "colab": {
      "provenance": []
    },
    "gpuClass": "standard",
    "kernelspec": {
      "display_name": "Python 3",
      "name": "python3"
    },
    "language_info": {
      "name": "python"
    }
  },
  "nbformat": 4,
  "nbformat_minor": 0
}
